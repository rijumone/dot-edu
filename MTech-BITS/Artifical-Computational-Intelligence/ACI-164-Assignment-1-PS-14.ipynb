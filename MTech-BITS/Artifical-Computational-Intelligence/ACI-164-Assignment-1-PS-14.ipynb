{
 "cells": [
  {
   "cell_type": "markdown",
   "metadata": {
    "id": "MzZ4dJQYF7sH"
   },
   "source": [
    "# Artificial and Computational Intelligence Assignment 1"
   ]
  },
  {
   "cell_type": "markdown",
   "metadata": {
    "id": "Fxb1aE9zF7sK"
   },
   "source": [
    "## Problem solving by Uninformed & Informed Search"
   ]
  },
  {
   "cell_type": "markdown",
   "metadata": {
    "id": "h35jIBbCF7sK"
   },
   "source": [
    "List only the BITS (Name) of active contributors in this assignment:\n",
    "1. Rijumone Choudhuri   (2023aa05963)\n",
    "2. Ashutosh Yadav       (2023ab05015)\n",
    "3. Amandeep Rapria      (2023aa05905)\n",
    "4. Sankalp Yadav        (2023ab05001)\n",
    "5. Asheesh Kumar Sharma (2023aa05199)"
   ]
  },
  {
   "cell_type": "markdown",
   "metadata": {
    "id": "pt5ygv_zF7sL"
   },
   "source": [
    "Things to follow\n",
    "1.\tUse appropriate data structures to represent the graph and the path using python libraries\n",
    "2.\tProvide proper documentation\n",
    "3.\tFind the path and print it"
   ]
  },
  {
   "cell_type": "markdown",
   "metadata": {
    "id": "wZfop5ElF7sL"
   },
   "source": [
    "Coding begins here"
   ]
  },
  {
   "cell_type": "markdown",
   "metadata": {
    "id": "IL0QDMy3F7sL"
   },
   "source": [
    "### 1.\tDefine the environment in the following block"
   ]
  },
  {
   "cell_type": "markdown",
   "metadata": {
    "id": "RYwJPNLIF7sM"
   },
   "source": [
    "List the PEAS decription of the problem here in this markdown block"
   ]
  },
  {
   "cell_type": "markdown",
   "metadata": {
    "id": "XJ3cHp1IF7sM"
   },
   "source": [
    "Design the agent as PSA Agent(Problem Solving Agent)\n",
    "Clear Initial data structures to define the graph and variable declarations is expected\n",
    "IMPORTATANT: Write distinct code block as below"
   ]
  },
  {
   "cell_type": "code",
   "execution_count": 204,
   "metadata": {
    "id": "osp61RsLF7sN"
   },
   "outputs": [],
   "source": [
    "#Code Block : Set Initial State (Must handle dynamic inputs)\n",
    "starting_bloodbank = input()"
   ]
  },
  {
   "cell_type": "code",
   "execution_count": 205,
   "metadata": {
    "id": "XODwoWZ0F7sO"
   },
   "outputs": [],
   "source": [
    "# Code Block : Set the matrix for transition & cost (as relevant for the given problem)\n",
    "from math import inf\n",
    "\n",
    "distances = [\n",
    "    #   A,  B,   C,  D,   E,   F,   Hospital\n",
    "    [   0,  5,   8,  inf, inf, inf, inf, ],    # A\n",
    "    [   5,  0,   7,  6,   10,  inf, 8,   ],    # B \n",
    "    [   8,  7,   0,  inf, inf, 12,  inf, ],    # C\n",
    "    [ inf,  6, inf,  0,   inf, inf, 10,  ],    # D\n",
    "    [ inf, 10, inf,  inf, 0,   9,   18   ],    # E\n",
    "    [ inf, inf, 12,  inf, 9,   0,   inf  ],    # F\n",
    "    [ inf,  8, inf,  10,  18,  inf, 0    ],    # Hospital\n",
    "]"
   ]
  },
  {
   "cell_type": "code",
   "execution_count": 206,
   "metadata": {
    "id": "ro24Gaj7F7sO"
   },
   "outputs": [],
   "source": [
    "#Code Block : Write function to design the Transition Model/Successor function.\n",
    "#Ideally this would be called while search algorithms are implemented\n",
    "def Successor(current_node, unvisited_blood_banks, distances):\n",
    "    sorted_unvisited_blood_banks = []\n",
    "    for next_node in unvisited_blood_banks:\n",
    "        path_heuristics = distances[current_node][next_node] + calculate_average_distance(next_node, unvisited_blood_banks, distances)\n",
    "        if distances[current_node][next_node] != 0 and path_heuristics != inf and current_node != next_node:\n",
    "            sorted_unvisited_blood_banks.append([next_node, path_heuristics])\n",
    "    sorted_unvisited_blood_banks = sorted(sorted_unvisited_blood_banks, key=lambda x: x[1])\n",
    "    next_unvisited_banks = [item[0] for item in sorted_unvisited_blood_banks]\n",
    "    return next_unvisited_banks\n",
    "    "
   ]
  },
  {
   "cell_type": "code",
   "execution_count": 207,
   "metadata": {
    "id": "HIVPhrRWF7sO"
   },
   "outputs": [],
   "source": [
    "#Code block : Write fucntion to handle goal test (Must handle dynamic inputs). \n",
    "#Ideally this would be called while search algorithms are implemented\n",
    "def goal_test(unvisited_blood_banks, current_node):\n",
    "    if not unvisited_blood_banks and current_node ==6:\n",
    "        return True\n",
    "    else:\n",
    "        return False\n",
    "    \n",
    "    "
   ]
  },
  {
   "cell_type": "markdown",
   "metadata": {
    "id": "Z4QwDeX5F7sO"
   },
   "source": [
    "### 2.\tDefinition of Algorithm 1 (Mention the Name of the algorithm here)"
   ]
  },
  {
   "cell_type": "code",
   "execution_count": 208,
   "metadata": {
    "id": "zD_EPCHWF7sO"
   },
   "outputs": [],
   "source": [
    "#Code Block : Function for algorithm 1 implementation\n",
    "\n",
    "def calculate_average_distance(next_node, unvisited_blood_banks, distances):\n",
    "    total_distance = 0\n",
    "    for unvisited_bank in unvisited_blood_banks:\n",
    "        if unvisited_bank !=6: ## 6 is hospital\n",
    "            total_distance += dijkstra(distances, next_node, unvisited_bank)\n",
    "    return total_distance / len(unvisited_blood_banks)-1\n",
    "\n",
    "### shortest distance between two nodes\n",
    "import heapq\n",
    "\n",
    "def dijkstra(adj_matrix, start, end):\n",
    "    num_nodes = len(adj_matrix)\n",
    "    priority_queue = [(0, start)]\n",
    "    distances = [float('infinity')] * num_nodes\n",
    "    distances[start] = 0\n",
    "\n",
    "    while priority_queue:\n",
    "        current_distance, current_vertex = heapq.heappop(priority_queue)\n",
    "\n",
    "        # If the current distance is greater than the known distance, skip\n",
    "        if current_distance > distances[current_vertex]:\n",
    "            continue\n",
    "\n",
    "        # Explore neighbors\n",
    "        for neighbor, weight in enumerate(adj_matrix[current_vertex]):\n",
    "            if weight < float('infinity'):\n",
    "                distance = current_distance + weight\n",
    "\n",
    "                # If the new distance is shorter, update the distance and push it to the priority queue\n",
    "                if distance < distances[neighbor]:\n",
    "                    distances[neighbor] = distance\n",
    "                    heapq.heappush(priority_queue, (distance, neighbor))\n",
    "\n",
    "    return distances[end]\n",
    "\n",
    "\n",
    "def blood_supply_recursive_bfs_a_star(current_node, unvisited_blood_banks, distances, path, total_distance, space):\n",
    "    \n",
    "    if goal_test(unvisited_blood_banks, current_node):\n",
    "        return path + [current_node], total_distance + distances[current_node][6], space  # Assuming 6 represents the hospital\n",
    "\n",
    "    sorted_unvisited_blood_banks = Successor(current_node, unvisited_blood_banks, distances)\n",
    "\n",
    " \n",
    "    best_path = []\n",
    "    best_total_distance = inf\n",
    "    \n",
    "    for next_bank in sorted_unvisited_blood_banks:\n",
    "        \n",
    "        new_path = path + [current_node]\n",
    "        new_total_distance = total_distance + distances[current_node][next_bank]\n",
    "\n",
    "        new_unvisited_blood_banks = set(unvisited_blood_banks)\n",
    "        new_unvisited_blood_banks.remove(next_bank)\n",
    "\n",
    "        # Recursively explore the next blood bank\n",
    "        space = space+1\n",
    "        result_path, result_total_distance, space = blood_supply_recursive_bfs_a_star(next_bank, new_unvisited_blood_banks, distances, new_path, new_total_distance, space)\n",
    "        if result_total_distance < best_total_distance:\n",
    "                best_path = result_path\n",
    "                best_total_distance = result_total_distance\n",
    "\n",
    "    return best_path, best_total_distance, space\n",
    "\n",
    "\n",
    "\n",
    "def blood_supply_a_star(distances, starting_bloodbank, space):\n",
    "    n = len(distances)\n",
    "    unvisited_blood_banks = set(range(0, n))  # Assuming 6 is the hospital\n",
    "    #starting_node = 5  # Starting from the A\n",
    "    name_to_number = {\n",
    "        \"A\": 0,\n",
    "        \"B\": 1,\n",
    "        \"C\": 2,\n",
    "        \"D\": 3,\n",
    "        \"E\": 4,\n",
    "        \"F\": 5,\n",
    "        \"H\": 6,\n",
    "    }\n",
    "    starting_node = name_to_number.get(starting_bloodbank)\n",
    "    number_to_name = {\n",
    "        0 : \"A\",\n",
    "        1 : \"B\",\n",
    "        2 : \"C\",\n",
    "        3: \"D\",\n",
    "        4: \"E\",\n",
    "        5: \"F\",\n",
    "        6: \"H\",\n",
    "        \n",
    "    }\n",
    "    unvisited_blood_banks.remove(starting_node)\n",
    "    path, total_distance, space = blood_supply_recursive_bfs_a_star(starting_node, unvisited_blood_banks, distances, [], 0, 1)\n",
    "\n",
    "    # Return to the hospital to complete the delivery\n",
    "    if len(path)>0 and len(set(path)) == len(path) and path[-1]==6:\n",
    "        path = [number_to_name.get(p) for p in path]\n",
    "        return path, total_distance, space\n",
    "    else:\n",
    "        return [], inf, space\n"
   ]
  },
  {
   "cell_type": "markdown",
   "metadata": {
    "id": "KnbdDl6HF7sO"
   },
   "source": [
    "### 3.\tDefinition of Algorithm 2 (Mention the Name of the algorithm here)"
   ]
  },
  {
   "cell_type": "code",
   "execution_count": 209,
   "metadata": {
    "id": "3HYh7-eJF7sP"
   },
   "outputs": [],
   "source": [
    "# Code Block : Function for algorithm 2 implementation\n",
    "import random\n",
    "from math import inf\n",
    "from dataclasses import dataclass\n",
    "\n",
    "\n",
    "max = 999\n",
    "END_BLOODBANK = 'H'\n",
    "population_size = 9\n",
    "max_generations = 399\n",
    "mutation_rate = 1\n",
    "selection_pressure = 5\n",
    "convergence_rate = 0.86\n",
    "threshhold = population_size * max * convergence_rate\n",
    "space_complexity_ctr = 0\n",
    "\n",
    "position = {\n",
    "    \"A\": 0,\n",
    "    \"B\": 1,\n",
    "    \"C\": 2,\n",
    "    \"D\": 3,\n",
    "    \"E\": 4,\n",
    "    \"F\": 5,\n",
    "    \"H\": 6,\n",
    "}\n",
    "\n",
    "\n",
    "@dataclass\n",
    "class Genome:\n",
    "    path: str\n",
    "    fitness : int = None\n",
    "    \n",
    "    def __post_init__(self, ):\n",
    "        self.fitness = fitness(self.path)\n",
    "\n",
    "def fitness(path):\n",
    "    \"\"\"Calculates fitness by adding the distance between all the neigbouring bloodbanks in the path,\n",
    "    and return the total distance traversed in a given path.\"\"\"\n",
    "\n",
    "    total_distance = 0\n",
    "    for i in range(len(path)-1):\n",
    "        # if there is no path between the two bloodbanks return max, else add it to the total distance travelled.\n",
    "        if distances[position[path[i]]][position[path[i+1]]] is inf:\n",
    "            return max\n",
    "        total_distance += distances[position[path[i]]][position[path[i+1]]]\n",
    "    return total_distance\n",
    "\n",
    "def tournament_selection(population, selection_pressure):\n",
    "    \"\"\"Return selection_pressure number of fittest individuals in a given population.\"\"\"\n",
    "    # import pdb;pdb.set_trace()\n",
    "    population.sort(key=lambda x: x.fitness)\n",
    "    fittest = population[0:selection_pressure]\n",
    "    return fittest\n",
    "\n",
    "def apply_ordered_crossover(parent_1, parent_2, crossover_start, crossover_end, starting_bloodbank):\n",
    "    \"\"\"Apply ordered cross (OX) on a genome and return the newly generated genome.\n",
    "    Pairs of selected individuals (parents) are combined to produce offspring through crossover or\n",
    "    recombination. This involves exchanging genetic material (e.g., sub-tours in the TSP) between parents to\n",
    "    create new solutions. The crossover operator helps explore the solution space by combining beneficial\n",
    "    traits from different individuals.\"\"\"\n",
    "    \n",
    "    # Initialize the child with the same length as parents\n",
    "    p1_path = list(parent_1.path[0:len(parent_1.path)])\n",
    "    p2_path = list(parent_2.path[0:len(parent_2.path)])\n",
    "    child = [starting_bloodbank] + ([-1] * (len(p1_path)-2)) + [END_BLOODBANK]\n",
    "\n",
    "    # Copy a subset of genes from parent_1 to the child\n",
    "    child[crossover_start:crossover_end + 1] = p1_path[crossover_start:crossover_end + 1]\n",
    "    # logger.debug(child)\n",
    "    # Fill in the remaining positions in the child with genes from parent_2\n",
    "    idx_child = 1\n",
    "    for idx_parent in range(1, len(p2_path)-1):\n",
    "        if idx_parent < crossover_start or idx_parent > crossover_end:\n",
    "            # If the gene from parent_2 is not already in the child, add it\n",
    "            if p2_path[idx_parent] not in child:\n",
    "                # Find the next empty position in the child\n",
    "                while child[idx_child] != -1:\n",
    "                    idx_child += 1\n",
    "                # Assign the gene from parent_2 to the child\n",
    "                child[idx_child] = p2_path[idx_parent]\n",
    "    # print(child)\n",
    "    # import pdb;pdb.set_trace()\n",
    "    return Genome(child)\n",
    "\n",
    "def apply_mutation(chromosome):\n",
    "    \"\"\"Apply mutation by replacing a random order of bloodbanks and return the newly generated genome.\"\"\"\n",
    "\n",
    "    # import pdb;pdb.set_trace()\n",
    "    offspring = []\n",
    "    possible_postions = []\n",
    "    for i in range(len(chromosome.path) - 1):\n",
    "        try:\n",
    "            offspring.extend(chromosome.path[i])\n",
    "        except TypeError:\n",
    "            import pdb;pdb.set_trace()\n",
    "\n",
    "    for i in range(1, len(offspring)):\n",
    "        possible_postions.append(i)\n",
    "\n",
    "    for i in range(mutation_rate):\n",
    "        position_1, position_2 = random.sample(possible_postions, 2)\n",
    "        temp = offspring[position_1]\n",
    "        offspring[position_1] = offspring[position_2]\n",
    "        offspring[position_2] = temp\n",
    "\n",
    "    offspring.extend(END_BLOODBANK)\n",
    "    path = \"\".join(offspring)\n",
    "    new_offspring = Genome(path)\n",
    "    return new_offspring\n",
    "\n",
    "def calc_total_population_score(population):\n",
    "    \"\"\"Calculate the total score of the population by adding all of their fitness scores.\"\"\"\n",
    "\n",
    "    return sum([_.fitness for _ in population])\n",
    "\n",
    "def init_population(population_size, bloodbanks, starting_bloodbank):\n",
    "    \"\"\"Function to initialize a random population.\"\"\"\n",
    "    \n",
    "    def generate_path(bloodbanks, start_bloodbank, end_bloodbank):\n",
    "        \"\"\"Function to generate a random path.\"\"\"\n",
    "        remaining_bloodbanks = [bloodbank for bloodbank in bloodbanks if bloodbank not in [start_bloodbank, end_bloodbank]]\n",
    "        random.shuffle(remaining_bloodbanks)\n",
    "        path = [start_bloodbank] + remaining_bloodbanks + [end_bloodbank]\n",
    "        return ''.join(path)\n",
    "    \n",
    "    \n",
    "    population = []\n",
    "\n",
    "    for _ in range(population_size):\n",
    "        path = generate_path(bloodbanks, start_bloodbank=starting_bloodbank, end_bloodbank=END_BLOODBANK)\n",
    "        individual = Genome(path)\n",
    "        population.append(individual)\n",
    "    return population\n",
    "\n",
    "\n",
    "def blood_supply_genetic(starting_bloodbank):\n",
    "    global space_complexity_ctr\n",
    "    # Initialize a population.\n",
    "    population = init_population(population_size, position.keys(), starting_bloodbank)\n",
    "    current_gen = 0\n",
    "\n",
    "    # Apply genetic algorithm until a maximum number of generations is reached or the population score is greater than threshhold.\n",
    "    while True:\n",
    "        current_gen += 1\n",
    "        space_complexity_ctr += len(population)\n",
    "        score = calc_total_population_score(population)\n",
    "        # print(\"\\n\\nGeneration: \", current_gen)\n",
    "        # print(\"Score: \", score)\n",
    "        # import pdb;pdb.set_trace()\n",
    "        fittest_genomes = tournament_selection(population, selection_pressure)\n",
    "        space_complexity_ctr += len(fittest_genomes)\n",
    "\n",
    "        # Print Fittest Genomes after selection.\n",
    "        # print(\"\\nFittest Genomes:\\nPATH\\t\\tFITNESS\")\n",
    "        # for _ in fittest_genomes:\n",
    "        #     print(_.path, \"\\t\", _.fitness)\n",
    "\n",
    "        population = [] # resetting population to create next gen population\n",
    "        for i in range(population_size-len(fittest_genomes)):\n",
    "            parent_1, parent_2 = random.sample(list(range(len(fittest_genomes))), 2)\n",
    "            new_offspring = apply_ordered_crossover(\n",
    "                fittest_genomes[parent_1], fittest_genomes[parent_2], 1, 5, starting_bloodbank)\n",
    "            mutated_new_offspring = apply_mutation(new_offspring)\n",
    "            population.append(mutated_new_offspring)\n",
    "\n",
    "        for i in range(len(fittest_genomes)):\n",
    "            mutated_new_offspring = apply_mutation(fittest_genomes[i])\n",
    "            population.append(mutated_new_offspring)\n",
    "\n",
    "        # Print the new generation.\n",
    "        # print(\"\\nNew Generation:\\nPATH\\t\\tFITNESS\")\n",
    "        # for i in population:\n",
    "        #     print(i.path, \"\\t\", i.fitness)\n",
    "\n",
    "        # Stopping criteria.\n",
    "        if (score < threshhold or current_gen >= max_generations):\n",
    "            # import pdb;pdb.set_trace()\n",
    "            # Print the generation number and the shorted distance found by the genetic algorithm.\n",
    "            # print(\"\\n\\nGeneration: \", current_gen, \"/\", max_generations)\n",
    "            fittest_genomes.sort(key=lambda x: x.fitness)\n",
    "            # print(\"Shortest Distance Found:\",\n",
    "            #         fittest_genomes[0].path, fittest_genomes[0].fitness)\n",
    "            if fittest_genomes[0].fitness == max:\n",
    "                return [], inf\n",
    "            return fittest_genomes[0].path, fittest_genomes[0].fitness\n",
    "\n"
   ]
  },
  {
   "cell_type": "markdown",
   "metadata": {
    "id": "LEV2XHccF7sP"
   },
   "source": [
    "### DYNAMIC INPUT"
   ]
  },
  {
   "cell_type": "markdown",
   "metadata": {
    "id": "CylYRo_DF7sP"
   },
   "source": [
    "IMPORTANT : Dynamic Input must be got in this section. Display the possible states to choose from:\n",
    "This is applicable for all the relevent problems as mentioned in the question."
   ]
  },
  {
   "cell_type": "code",
   "execution_count": 210,
   "metadata": {
    "id": "Q5t1Lc-wF7sP"
   },
   "outputs": [],
   "source": [
    "# Code Block : Function & call to get inputs (start/end state)\n",
    "# `starting_bloodbank` initialized above is being used as an input for the genetic algorithm as well.\n",
    "# This will ensure better insights in comparative analysis."
   ]
  },
  {
   "cell_type": "markdown",
   "metadata": {
    "id": "xsfOP81lF7sP"
   },
   "source": [
    "### 4.\tCalling the search algorithms\n",
    "(For bidirectional search in below sections first part can be used as per Hint provided. Under second section other combinations as per Hint or your choice of 2 algorithms can be called .As an analyst suggest suitable approximation in the comparitive analysis section)"
   ]
  },
  {
   "cell_type": "code",
   "execution_count": 211,
   "metadata": {
    "id": "Og5zI9thF7sP"
   },
   "outputs": [
    {
     "name": "stdout",
     "output_type": "stream",
     "text": [
      "Algo 1: RBFA*\n",
      "Optimal Path:\t\t \n",
      "Optimal Path Cost:\t inf\n"
     ]
    }
   ],
   "source": [
    "# Invoke algorithm 1 (Should Print the solution, path, cost etc., (As mentioned in the problem))\n",
    "import time\n",
    "\n",
    "algo_1_start_time = time.time()\n",
    "path, path_cost, space_algo_1 = blood_supply_a_star(distances, starting_bloodbank, 1)\n",
    "print('Algo 1: RBFA*')\n",
    "print('Optimal Path:\\t\\t', ' -> '.join(path).rstrip(' -> ') )\n",
    "print('Optimal Path Cost:\\t', path_cost)"
   ]
  },
  {
   "cell_type": "code",
   "execution_count": 212,
   "metadata": {
    "id": "u3MJeA6eF7sP"
   },
   "outputs": [
    {
     "name": "stdout",
     "output_type": "stream",
     "text": [
      "Algo 2: Genetic Algorithm\n",
      "Optimal Path:\t\t \n",
      "Optimal Path Cost:\t inf\n"
     ]
    }
   ],
   "source": [
    "# Invoke algorithm 2 (Should Print the solution, path, cost etc., (As mentioned in the problem))\n",
    "algo_2_start_time = time.time()\n",
    "\n",
    "path, path_cost = blood_supply_genetic(starting_bloodbank)\n",
    "\n",
    "print('Algo 2: Genetic Algorithm')\n",
    "print('Optimal Path:\\t\\t', ' -> '.join(path).rstrip(' -> ') )\n",
    "print('Optimal Path Cost:\\t', path_cost)\n"
   ]
  },
  {
   "cell_type": "markdown",
   "metadata": {
    "id": "TOU3Rem6F7sQ"
   },
   "source": [
    "### 5.\tComparitive Analysis"
   ]
  },
  {
   "cell_type": "code",
   "execution_count": 213,
   "metadata": {
    "id": "HG6fWwiIF7sQ"
   },
   "outputs": [
    {
     "name": "stdout",
     "output_type": "stream",
     "text": [
      "Algo 1: RBFA*\n",
      "\n",
      "Time Complexity: \t0.03431129455566406\n",
      "Space Complexity: \t47\n"
     ]
    }
   ],
   "source": [
    "# Code Block : Print the Time & Space complexity of algorithm 1\n",
    "print('Algo 1: RBFA*')\n",
    "print(f'\\nTime Complexity: \\t{time.time() - algo_1_start_time}')\n",
    "print(f'Space Complexity: \\t{space_algo_1}')"
   ]
  },
  {
   "cell_type": "markdown",
   "metadata": {},
   "source": []
  },
  {
   "cell_type": "markdown",
   "metadata": {},
   "source": []
  },
  {
   "cell_type": "code",
   "execution_count": 214,
   "metadata": {
    "id": "xMButLKCF7sQ"
   },
   "outputs": [
    {
     "name": "stdout",
     "output_type": "stream",
     "text": [
      "Algo 2: Genetic Algorithm\n",
      "\n",
      "Time Complexity: \t0.0293271541595459\n",
      "Space Complexity: \t5586\n"
     ]
    }
   ],
   "source": [
    "# Code Block : Print the Time & Space complexity of algorithm 2\n",
    "print('Algo 2: Genetic Algorithm')\n",
    "print(f'\\nTime Complexity: \\t{time.time() - algo_2_start_time}')\n",
    "print(f'Space Complexity: \\t{space_complexity_ctr}')"
   ]
  },
  {
   "cell_type": "markdown",
   "metadata": {
    "id": "y2nXwAlsF7sQ"
   },
   "source": [
    "### 6.\tProvide your comparitive analysis or findings in no more than 3 lines in below section"
   ]
  },
  {
   "cell_type": "markdown",
   "metadata": {
    "id": "si483-zoF7sQ"
   },
   "source": [
    "Comparison : \n",
    "We can see that the average time complexity of RBFA* is ~0.0254 while the average time complexity of Genetic Algorithm is ~0.0215.\n",
    "Also, the average space complexity of RBFA* is 43.83 while the average space complexity of Genetic Algorithm is 3460.33.\n",
    "Both algorithms are optimal in that they are providing the shortest path starting from any bloodbank, visiting each bloodbank just once and always reaching the hospital in the end, provided that a path exists from the starting bloodbank to the hospital."
   ]
  }
 ],
 "metadata": {
  "colab": {
   "provenance": []
  },
  "kernelspec": {
   "display_name": "Python 3 (ipykernel)",
   "language": "python",
   "name": "python3"
  },
  "language_info": {
   "codemirror_mode": {
    "name": "ipython",
    "version": 3
   },
   "file_extension": ".py",
   "mimetype": "text/x-python",
   "name": "python",
   "nbconvert_exporter": "python",
   "pygments_lexer": "ipython3",
   "version": "3.9.6"
  }
 },
 "nbformat": 4,
 "nbformat_minor": 1
}
