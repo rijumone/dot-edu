{
 "cells": [
  {
   "cell_type": "markdown",
   "id": "76e04043-0fe7-4fdf-acf6-2f1c049a711b",
   "metadata": {},
   "source": [
    "## Given a number n, write a function to print all prime factors of `n`.\n",
    "\n",
    "### For example, if the input number is 12, then output should be \n",
    "```“2 2 3”```"
   ]
  },
  {
   "cell_type": "code",
   "execution_count": 1,
   "id": "a1001d9f-ccf2-4fcc-b7fa-fa1ce9658ea9",
   "metadata": {},
   "outputs": [
    {
     "name": "stdin",
     "output_type": "stream",
     "text": [
      "Enter your number to display prime factors and press Return 12\n"
     ]
    }
   ],
   "source": [
    "number = int(input('Enter your number to display prime factors and press Return'))"
   ]
  },
  {
   "cell_type": "code",
   "execution_count": 2,
   "id": "a6a36fa3-337c-4769-b913-8431df56f80b",
   "metadata": {},
   "outputs": [],
   "source": [
    "primes = [2, 3, 5, 7]"
   ]
  },
  {
   "cell_type": "markdown",
   "id": "ed1467cb-eea6-420d-ad6f-028cdda2a268",
   "metadata": {},
   "source": [
    "Declare a new variable to hold the quotient after division has taken place. Initialize it with the number"
   ]
  },
  {
   "cell_type": "code",
   "execution_count": 43,
   "id": "02b22289-9945-498f-a9df-47c5de41cda4",
   "metadata": {},
   "outputs": [],
   "source": [
    "factors = []"
   ]
  },
  {
   "cell_type": "code",
   "execution_count": 44,
   "id": "8ed4504f-842d-4a70-a48d-34707f8fd863",
   "metadata": {},
   "outputs": [],
   "source": [
    "current_prime_idx = 0"
   ]
  },
  {
   "cell_type": "code",
   "execution_count": 45,
   "id": "1e097bec-80fa-42d4-9bb9-fb118739796c",
   "metadata": {},
   "outputs": [],
   "source": [
    "quotient = number"
   ]
  },
  {
   "cell_type": "markdown",
   "id": "3ac5e570-bb0b-4a72-8908-e37c59760219",
   "metadata": {},
   "source": [
    "Okay, this needs a bit of explanation.\n",
    "We will keep dividing the quotient with one of the primes till the time the quotient is larger, and hence _can_ be divided with any (first) of the primes.\n",
    "We start with the first prime.\n",
    "Everytime we make a successful division (with no remainder), i.e. one with no remainders, we add the divisor to our list of factors.\n",
    "When we can't make a successful division, we move on to the next prime.\n",
    "\n",
    "I kept in the print statements so that we are aware of what is going on."
   ]
  },
  {
   "cell_type": "code",
   "execution_count": 47,
   "id": "267a335f-09ba-415f-b7ff-435e9c50413a",
   "metadata": {},
   "outputs": [],
   "source": [
    "while quotient > primes[0]:\n",
    "    if int(quotient % primes[current_prime_idx]) == 0:\n",
    "        factors.append(primes[current_prime_idx])\n",
    "        quotient = quotient // primes[current_prime_idx]\n",
    "        print(factors, quotient)\n",
    "    else:\n",
    "        current_prime_idx += 1\n"
   ]
  },
  {
   "cell_type": "code",
   "execution_count": 48,
   "id": "99953c51-e4b8-4325-bb04-e1f70b54c2b2",
   "metadata": {},
   "outputs": [
    {
     "data": {
      "text/plain": [
       "[2, 2, 3]"
      ]
     },
     "execution_count": 48,
     "metadata": {},
     "output_type": "execute_result"
    }
   ],
   "source": [
    "factors"
   ]
  },
  {
   "cell_type": "markdown",
   "id": "bd215414-c730-467d-a6b1-819cd363322d",
   "metadata": {},
   "source": [
    "Done!"
   ]
  }
 ],
 "metadata": {
  "kernelspec": {
   "display_name": "Python 3 (ipykernel)",
   "language": "python",
   "name": "python3"
  },
  "language_info": {
   "codemirror_mode": {
    "name": "ipython",
    "version": 3
   },
   "file_extension": ".py",
   "mimetype": "text/x-python",
   "name": "python",
   "nbconvert_exporter": "python",
   "pygments_lexer": "ipython3",
   "version": "3.9.6"
  }
 },
 "nbformat": 4,
 "nbformat_minor": 5
}
