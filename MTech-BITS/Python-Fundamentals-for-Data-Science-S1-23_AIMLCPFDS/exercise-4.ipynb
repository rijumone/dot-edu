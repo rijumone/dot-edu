{
 "cells": [
  {
   "cell_type": "markdown",
   "id": "342e23aa-9487-4050-8151-49a4ea3e0a10",
   "metadata": {},
   "source": [
    "##  Given an array which may contain duplicates, print all elements and their frequencies."
   ]
  },
  {
   "cell_type": "code",
   "execution_count": 1,
   "id": "3cd50ffb-56cc-4205-a17c-804bbdfabc09",
   "metadata": {},
   "outputs": [],
   "source": [
    "array = [\n",
    "    'a', 'b', 'b',\n",
    "    0, 1, 2, 1,\n",
    "]"
   ]
  },
  {
   "cell_type": "markdown",
   "id": "a8293844-cdea-49a4-969a-79186a8a3266",
   "metadata": {},
   "source": [
    "Let's declare a dictionary as the data structure to hold our results"
   ]
  },
  {
   "cell_type": "code",
   "execution_count": 2,
   "id": "2c7cce5e-503a-46dd-94ac-87a3ca195322",
   "metadata": {},
   "outputs": [],
   "source": [
    "_dct = {}"
   ]
  },
  {
   "cell_type": "markdown",
   "id": "26121abe-2aa4-40ef-bb13-b3713075dd73",
   "metadata": {},
   "source": [
    "Iterate over each element in the list, if the element exists in the dictionary, increment its frequency, else add it to the dictionary with frequeny 1."
   ]
  },
  {
   "cell_type": "code",
   "execution_count": null,
   "id": "034d5f6d-81e5-4e53-bbda-ba5917cd4b87",
   "metadata": {},
   "outputs": [],
   "source": [
    "for _ in array"
   ]
  }
 ],
 "metadata": {
  "kernelspec": {
   "display_name": "Python 3 (ipykernel)",
   "language": "python",
   "name": "python3"
  },
  "language_info": {
   "codemirror_mode": {
    "name": "ipython",
    "version": 3
   },
   "file_extension": ".py",
   "mimetype": "text/x-python",
   "name": "python",
   "nbconvert_exporter": "python",
   "pygments_lexer": "ipython3",
   "version": "3.9.6"
  }
 },
 "nbformat": 4,
 "nbformat_minor": 5
}
