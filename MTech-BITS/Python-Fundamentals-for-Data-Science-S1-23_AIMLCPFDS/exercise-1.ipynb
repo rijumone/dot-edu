{
 "cells": [
  {
   "cell_type": "markdown",
   "id": "9c426536-7bda-4bac-8cca-c10718abdb08",
   "metadata": {},
   "source": [
    "### Given a number, find the sum of its digits. Take the number as an input from the user"
   ]
  },
  {
   "cell_type": "markdown",
   "id": "2fd58c02-00c3-4d77-b067-f5faebf8bf7b",
   "metadata": {},
   "source": [
    "Assuming that number means integer"
   ]
  },
  {
   "cell_type": "code",
   "execution_count": 10,
   "id": "cef9cd26-fb4e-40b0-96fa-301ac1ff70ab",
   "metadata": {},
   "outputs": [
    {
     "name": "stdin",
     "output_type": "stream",
     "text": [
      "Please enter your integer and press Return 1234567890\n"
     ]
    }
   ],
   "source": [
    "number = int(input('Please enter your integer and press Return'))"
   ]
  },
  {
   "cell_type": "markdown",
   "id": "584f832e-16f6-4e0d-b8dc-003bbb35a0be",
   "metadata": {},
   "source": [
    "Convert the integer to a string so that each digit becomes a string char so that they can be individually indexed"
   ]
  },
  {
   "cell_type": "code",
   "execution_count": 2,
   "id": "c359a6a5-7754-4c0a-9423-c7722d02cd0f",
   "metadata": {},
   "outputs": [
    {
     "data": {
      "text/plain": [
       "'1234567890'"
      ]
     },
     "execution_count": 2,
     "metadata": {},
     "output_type": "execute_result"
    }
   ],
   "source": [
    "str(number)"
   ]
  },
  {
   "cell_type": "markdown",
   "id": "5a63a29d-979e-4b70-b72c-62d76fe1d071",
   "metadata": {},
   "source": [
    "Use list comprehension to convert the string to a list so that one can iterate over the digits"
   ]
  },
  {
   "cell_type": "code",
   "execution_count": 5,
   "id": "0fdc13a7-c373-46c3-87bf-98e5f442d1e2",
   "metadata": {},
   "outputs": [
    {
     "data": {
      "text/plain": [
       "['1', '2', '3', '4', '5', '6', '7', '8', '9', '0']"
      ]
     },
     "execution_count": 5,
     "metadata": {},
     "output_type": "execute_result"
    }
   ],
   "source": [
    "[_ for _ in str(number)]"
   ]
  },
  {
   "cell_type": "markdown",
   "id": "737a64aa-d28b-49b1-8f0b-c261e5a9f3c5",
   "metadata": {},
   "source": [
    "Now as we can see, each element is a string, let's typecast them back to int so that one can run arithmetic operations on them"
   ]
  },
  {
   "cell_type": "code",
   "execution_count": 7,
   "id": "f3d7388a-c41d-4fcc-a03a-e892ca8ab6f4",
   "metadata": {},
   "outputs": [
    {
     "data": {
      "text/plain": [
       "[1, 2, 3, 4, 5, 6, 7, 8, 9, 0]"
      ]
     },
     "execution_count": 7,
     "metadata": {},
     "output_type": "execute_result"
    }
   ],
   "source": [
    "[int(_) for _ in str(number)]"
   ]
  },
  {
   "cell_type": "markdown",
   "id": "d4a39247-b171-459c-a3e2-18eaa56df5c0",
   "metadata": {},
   "source": [
    "Now simply compute the sum"
   ]
  },
  {
   "cell_type": "code",
   "execution_count": 9,
   "id": "9e33c74d-d7d4-4984-a883-ba986cf672c1",
   "metadata": {},
   "outputs": [
    {
     "data": {
      "text/plain": [
       "45"
      ]
     },
     "execution_count": 9,
     "metadata": {},
     "output_type": "execute_result"
    }
   ],
   "source": [
    "sum([int(_) for _ in str(number)])"
   ]
  },
  {
   "cell_type": "markdown",
   "id": "a3a62d62-3c01-40ed-b4df-726c52f9aafd",
   "metadata": {},
   "source": [
    "Done!"
   ]
  },
  {
   "cell_type": "code",
   "execution_count": null,
   "id": "18c184b1-9f99-4e69-9d2e-26e782e18ab8",
   "metadata": {},
   "outputs": [],
   "source": []
  }
 ],
 "metadata": {
  "kernelspec": {
   "display_name": "Python 3 (ipykernel)",
   "language": "python",
   "name": "python3"
  },
  "language_info": {
   "codemirror_mode": {
    "name": "ipython",
    "version": 3
   },
   "file_extension": ".py",
   "mimetype": "text/x-python",
   "name": "python",
   "nbconvert_exporter": "python",
   "pygments_lexer": "ipython3",
   "version": "3.9.6"
  }
 },
 "nbformat": 4,
 "nbformat_minor": 5
}
