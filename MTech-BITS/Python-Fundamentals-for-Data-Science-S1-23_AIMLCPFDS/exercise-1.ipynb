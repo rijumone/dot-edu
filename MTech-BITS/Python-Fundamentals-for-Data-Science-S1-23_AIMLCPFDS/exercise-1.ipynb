{
 "cells": [
  {
   "cell_type": "markdown",
   "id": "9c426536-7bda-4bac-8cca-c10718abdb08",
   "metadata": {},
   "source": [
    "### Given a number, find the sum of its digits. Take the number as an input from the user"
   ]
  },
  {
   "cell_type": "code",
   "execution_count": 1,
   "id": "cef9cd26-fb4e-40b0-96fa-301ac1ff70ab",
   "metadata": {},
   "outputs": [
    {
     "name": "stdin",
     "output_type": "stream",
     "text": [
      " 1234567890\n"
     ]
    }
   ],
   "source": [
    "# Assuming that number means integer\n",
    "number = int(input())"
   ]
  },
  {
   "cell_type": "code",
   "execution_count": 2,
   "id": "c359a6a5-7754-4c0a-9423-c7722d02cd0f",
   "metadata": {},
   "outputs": [
    {
     "data": {
      "text/plain": [
       "'1234567890'"
      ]
     },
     "execution_count": 2,
     "metadata": {},
     "output_type": "execute_result"
    }
   ],
   "source": [
    "# Convert the integer to a string so that each\n",
    "# digit becomes a string char so that they can be individually indexed\n",
    "str(number)"
   ]
  },
  {
   "cell_type": "code",
   "execution_count": 5,
   "id": "0fdc13a7-c373-46c3-87bf-98e5f442d1e2",
   "metadata": {},
   "outputs": [
    {
     "data": {
      "text/plain": [
       "['1', '2', '3', '4', '5', '6', '7', '8', '9', '0']"
      ]
     },
     "execution_count": 5,
     "metadata": {},
     "output_type": "execute_result"
    }
   ],
   "source": [
    "# Use list comprehension to convert the string to a list so that one\n",
    "# can iterate over the digits\n",
    "[_ for _ in str(number)]"
   ]
  },
  {
   "cell_type": "code",
   "execution_count": 7,
   "id": "f3d7388a-c41d-4fcc-a03a-e892ca8ab6f4",
   "metadata": {},
   "outputs": [
    {
     "data": {
      "text/plain": [
       "[1, 2, 3, 4, 5, 6, 7, 8, 9, 0]"
      ]
     },
     "execution_count": 7,
     "metadata": {},
     "output_type": "execute_result"
    }
   ],
   "source": [
    "# Now as we can see, each element is a string, let's typecast them back to int\n",
    "# so that one can run arithmetic operations on them\n",
    "[int(_) for _ in str(number)]"
   ]
  },
  {
   "cell_type": "code",
   "execution_count": 9,
   "id": "9e33c74d-d7d4-4984-a883-ba986cf672c1",
   "metadata": {},
   "outputs": [
    {
     "data": {
      "text/plain": [
       "45"
      ]
     },
     "execution_count": 9,
     "metadata": {},
     "output_type": "execute_result"
    }
   ],
   "source": [
    "# Now simply compute the sum\n",
    "sum([int(_) for _ in str(number)])"
   ]
  },
  {
   "cell_type": "code",
   "execution_count": null,
   "id": "2755760b-2934-47f8-a4ae-29638811cfe0",
   "metadata": {},
   "outputs": [],
   "source": [
    "# Done!"
   ]
  }
 ],
 "metadata": {
  "kernelspec": {
   "display_name": "Python 3 (ipykernel)",
   "language": "python",
   "name": "python3"
  },
  "language_info": {
   "codemirror_mode": {
    "name": "ipython",
    "version": 3
   },
   "file_extension": ".py",
   "mimetype": "text/x-python",
   "name": "python",
   "nbconvert_exporter": "python",
   "pygments_lexer": "ipython3",
   "version": "3.9.6"
  }
 },
 "nbformat": 4,
 "nbformat_minor": 5
}
