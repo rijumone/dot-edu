{
 "cells": [
  {
   "cell_type": "markdown",
   "id": "73a87a38-9338-4d61-a8a6-68c7c43a0ed9",
   "metadata": {},
   "source": [
    "##  Given a string, write a python function to check if it is palindrome or not. A string is said to be palindrome if the reverse of the string is the same as string.\n",
    "\n",
    "### For example, “malayalam” is a palindrome, but “music” is not a palindrome."
   ]
  },
  {
   "cell_type": "code",
   "execution_count": 7,
   "id": "dd25835c-b172-4aa2-9f32-87c47ac0fbfe",
   "metadata": {},
   "outputs": [
    {
     "name": "stdin",
     "output_type": "stream",
     "text": [
      "Enter string to check palindrome and press Return malayalam\n"
     ]
    }
   ],
   "source": [
    "_str = input('Enter string to check palindrome and press Return')"
   ]
  },
  {
   "cell_type": "markdown",
   "id": "9e7b56e7-aacf-4972-a070-a020557e558a",
   "metadata": {},
   "source": [
    "Reverse the string and check equality"
   ]
  },
  {
   "cell_type": "code",
   "execution_count": 8,
   "id": "169939a5-c6f0-47fb-ad8c-5d23f75b6353",
   "metadata": {},
   "outputs": [
    {
     "data": {
      "text/plain": [
       "True"
      ]
     },
     "execution_count": 8,
     "metadata": {},
     "output_type": "execute_result"
    }
   ],
   "source": [
    "_str == _str[::-1]"
   ]
  },
  {
   "cell_type": "markdown",
   "id": "93e8ee78-3365-460d-8596-066e19e50f43",
   "metadata": {},
   "source": [
    "Done!"
   ]
  },
  {
   "cell_type": "code",
   "execution_count": null,
   "id": "b0353e0c-efa4-427b-9fa1-276e4a38be8d",
   "metadata": {},
   "outputs": [],
   "source": []
  }
 ],
 "metadata": {
  "kernelspec": {
   "display_name": "Python 3 (ipykernel)",
   "language": "python",
   "name": "python3"
  },
  "language_info": {
   "codemirror_mode": {
    "name": "ipython",
    "version": 3
   },
   "file_extension": ".py",
   "mimetype": "text/x-python",
   "name": "python",
   "nbconvert_exporter": "python",
   "pygments_lexer": "ipython3",
   "version": "3.9.6"
  }
 },
 "nbformat": 4,
 "nbformat_minor": 5
}
