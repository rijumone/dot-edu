{
 "cells": [
  {
   "cell_type": "markdown",
   "id": "0ee2b7d0-910c-4da2-8f0c-f7afe4278dc8",
   "metadata": {},
   "source": [
    "## Given a number, check whether the given number is an Armstrong number or not. "
   ]
  },
  {
   "cell_type": "markdown",
   "id": "d717fa0a-3173-490a-b210-05a7152478ee",
   "metadata": {},
   "source": [
    "### A positive integer is called an Armstrong number of order n if:\n",
    "\n",
    "```abcd... = a^n + b^n + c^n + d^n + ...```\n",
    "\n",
    "### Example:\n",
    "\n",
    "```153 = 1*1*1 + 5*5*5 + 3*3*3```\n",
    "\n",
    "### 153 is an Armstrong number of order 3.\n",
    "\n",
    "### Inputs from the user will be `number` and order `n`."
   ]
  },
  {
   "cell_type": "markdown",
   "id": "ad58b880-6dc9-47aa-9d0b-2752547cceb4",
   "metadata": {},
   "source": [
    "Accepting inputs."
   ]
  },
  {
   "cell_type": "code",
   "execution_count": 2,
   "id": "47a97ed9-6b37-4544-844e-ac884165489d",
   "metadata": {},
   "outputs": [
    {
     "name": "stdin",
     "output_type": "stream",
     "text": [
      "Please enter number and press Return 153\n",
      "Please enter n and press Return 3\n"
     ]
    }
   ],
   "source": [
    "number, n = int(input('Please enter number and press Return')), int(input('Please enter n and press Return'))"
   ]
  },
  {
   "cell_type": "code",
   "execution_count": 3,
   "id": "2994cc70-5154-415a-a148-714b56841313",
   "metadata": {},
   "outputs": [],
   "source": [
    "# Convert integer to string to allow easy slicing\n",
    "str_number = str(number)"
   ]
  },
  {
   "cell_type": "code",
   "execution_count": 15,
   "id": "7ce4d551-bd93-4e94-ad0e-78f881dd706e",
   "metadata": {},
   "outputs": [],
   "source": [
    "# Calculate Armstrongness\n",
    "armstrong_sum = sum([int(_)**n for _ in str_number])"
   ]
  },
  {
   "cell_type": "code",
   "execution_count": 16,
   "id": "16867f66-258b-4a74-a502-845714db3f52",
   "metadata": {},
   "outputs": [
    {
     "data": {
      "text/plain": [
       "True"
      ]
     },
     "execution_count": 16,
     "metadata": {},
     "output_type": "execute_result"
    }
   ],
   "source": [
    "# Equate\n",
    "number == armstrong_sum"
   ]
  },
  {
   "cell_type": "code",
   "execution_count": null,
   "id": "acb7bef3-08d3-48e8-92d8-cd67b020f877",
   "metadata": {},
   "outputs": [],
   "source": [
    "# Done!"
   ]
  }
 ],
 "metadata": {
  "kernelspec": {
   "display_name": "Python 3 (ipykernel)",
   "language": "python",
   "name": "python3"
  },
  "language_info": {
   "codemirror_mode": {
    "name": "ipython",
    "version": 3
   },
   "file_extension": ".py",
   "mimetype": "text/x-python",
   "name": "python",
   "nbconvert_exporter": "python",
   "pygments_lexer": "ipython3",
   "version": "3.9.6"
  }
 },
 "nbformat": 4,
 "nbformat_minor": 5
}
