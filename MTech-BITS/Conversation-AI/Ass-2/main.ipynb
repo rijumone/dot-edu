{
 "cells": [
  {
   "cell_type": "markdown",
   "metadata": {},
   "source": [
    "# Conversation AI: Assignment 2\n",
    "## Tasks\n",
    "### Component: 1. Data Collection & Preprocessing\n",
    "Download the last two years of financials (Use any one group member's company earning statements, if nothing is available use any company's data freely available). Clean and structure the data for retrieval."
   ]
  },
  {
   "cell_type": "markdown",
   "metadata": {},
   "source": [
    "Download AAPL financials (PDF)"
   ]
  },
  {
   "cell_type": "code",
   "execution_count": 1,
   "metadata": {},
   "outputs": [],
   "source": [
    "import requests\n",
    "\n",
    "# make a dir to store the pdfs\n",
    "import os\n",
    "pdf_dl_path = './financial-docs-raw'\n",
    "os.makedirs(pdf_dl_path, exist_ok=True)\n",
    "\n",
    "for url in [\n",
    "    'https://s2.q4cdn.com/470004039/files/doc_earnings/2023/q4/filing/_10-K-Q4-2023-As-Filed.pdf',\n",
    "    'https://s2.q4cdn.com/470004039/files/doc_earnings/2024/q4/filing/10-Q4-2024-As-Filed.pdf',\n",
    "    ]:\n",
    "    response = requests.get(url)\n",
    "\n",
    "    with open(f'{pdf_dl_path}/' + url.split('/')[-1], 'wb') as file:\n",
    "        file.write(response.content)"
   ]
  },
  {
   "cell_type": "markdown",
   "metadata": {},
   "source": []
  }
 ],
 "metadata": {
  "kernelspec": {
   "display_name": ".venv",
   "language": "python",
   "name": "python3"
  },
  "language_info": {
   "codemirror_mode": {
    "name": "ipython",
    "version": 3
   },
   "file_extension": ".py",
   "mimetype": "text/x-python",
   "name": "python",
   "nbconvert_exporter": "python",
   "pygments_lexer": "ipython3",
   "version": "3.12.3"
  }
 },
 "nbformat": 4,
 "nbformat_minor": 2
}
